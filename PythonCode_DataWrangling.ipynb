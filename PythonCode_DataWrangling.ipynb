{
 "cells": [
  {
   "cell_type": "markdown",
   "id": "3c08586f",
   "metadata": {},
   "source": [
    "# Problem - Wrangling csv Files"
   ]
  },
  {
   "cell_type": "markdown",
   "id": "36757b77",
   "metadata": {},
   "source": [
    "You are working as a consultant for an environmental analytics firm. They’ve used temperature loggers to monitor the temperature in a number of local streams. The data from each logger has already been downloaded to a separate csv file. In reality, there are hundreds of files from several different streams. In the \\logs folder, you’ll see that I’ve provided just a sample of 14 files, all of which are from one stream – BCM. One good thing is that the firm used structured filenames so that it’s clear exactly where the data came from for each logger. \n",
    "\n",
    "**Task1 :** Combine all of the csv files in a single Excel workbook, Give it name and header in the file.\n",
    "\n",
    "**Task2:**  Summarization (Min/Max/Average)"
   ]
  },
  {
   "cell_type": "markdown",
   "id": "6fcdffc6",
   "metadata": {},
   "source": [
    "**Create a blank workbook and save it as BCM.xlsx**"
   ]
  },
  {
   "cell_type": "code",
   "execution_count": 1,
   "id": "da13c448",
   "metadata": {},
   "outputs": [],
   "source": [
    "from openpyxl import Workbook\n",
    "workbook = Workbook()\n",
    "workbook.save(\"BCM.xlsx\")"
   ]
  },
  {
   "cell_type": "markdown",
   "id": "f88b5afe",
   "metadata": {},
   "source": [
    "**Insert the Contents of Each CSV into a New Sheet and Giving Headers to file:**"
   ]
  },
  {
   "cell_type": "code",
   "execution_count": 2,
   "id": "1cf7d9d4",
   "metadata": {},
   "outputs": [],
   "source": [
    "import pandas as pd\n",
    "from pathlib import Path\n",
    "\n",
    "# Define the path to the logs folder\n",
    "logs_path = Path('logs')\n",
    "\n",
    "# Create a writer object for the Excel file\n",
    "with pd.ExcelWriter('BCM.xlsx', engine='openpyxl', mode='a') as writer:\n",
    "    for csv_file in logs_path.glob('*.csv'):\n",
    "        # Read the CSV file into a DataFrame\n",
    "        df = pd.read_csv(csv_file, header=None, names=['datetime', 'scale', 'temperature'])\n",
    "        \n",
    "        # Write the DataFrame to a sheet named after the CSV file (without the .csv extension)\n",
    "        sheet_name = csv_file.stem\n",
    "        df.to_excel(writer, sheet_name=sheet_name, index=False)\n"
   ]
  },
  {
   "cell_type": "markdown",
   "id": "2085e16e",
   "metadata": {},
   "source": [
    "**Create Function for datetime format and add Formulas to Each Sheet to calculate (Min/Max/Average):**"
   ]
  },
  {
   "cell_type": "code",
   "execution_count": 3,
   "id": "d3b79fd9",
   "metadata": {},
   "outputs": [],
   "source": [
    "from openpyxl import load_workbook\n",
    "from openpyxl.utils import get_column_letter\n",
    "from datetime import datetime\n",
    "\n",
    "# Function to convert string to desired Excel datetime format\n",
    "def convert_to_excel_datetime(date_str):\n",
    "    try:\n",
    "        dt = datetime.strptime(date_str, \"%m/%d/%Y %H:%M\")\n",
    "        return dt    \n",
    "    except ValueError:\n",
    "        return None\n",
    "\n",
    "# Step 4: Add formulas to each sheet\n",
    "workbook = load_workbook('BCM.xlsx')\n",
    "\n",
    "\n",
    "for sheet_name in workbook.sheetnames:\n",
    "    if sheet_name != 'Sheet':  # Skip the initial blank sheet\n",
    "        sheet = workbook[sheet_name]\n",
    "        max_row = sheet.max_row\n",
    "\n",
    "        # Convert datetime strings to Excel datetime objects\n",
    "        for row in range(2, max_row + 1):\n",
    "            cell_value = sheet[f'A{row}'].value\n",
    "            excel_datetime = convert_to_excel_datetime(cell_value)\n",
    "            if excel_datetime:\n",
    "                sheet[f'A{row}'].value = excel_datetime\n",
    "        \n",
    "        # Add labels for the formulas\n",
    "        sheet['G2'] = 'Min Temperature'\n",
    "        sheet['G3'] = 'Max Temperature'\n",
    "        sheet['G4'] = 'Average Temperature'\n",
    "        sheet['G6'] = 'Min Datetime'\n",
    "        sheet['G7'] = 'Max Datetime'\n",
    "\n",
    "        # Add the formulas\n",
    "        sheet['H2'] = f\"=round(MIN(C2:C{max_row}), 1)\"\n",
    "        sheet['H3'] = f\"=round(MAX(C2:C{max_row}), 1)\"\n",
    "        sheet['H4'] = f\"=round(AVERAGE(C2:C{max_row}), 1)\"\n",
    "        \n",
    "       \n",
    "        sheet['H6'] = f\"=TEXT(MIN(A2:A{max_row}), \\\"yyyy-mm-dd hh:mm:ss\\\")\"\n",
    "        sheet['H7'] = f\"=TEXT(MAX(A2:A{max_row}), \\\"yyyy-mm-dd hh:mm:ss\\\")\"\n",
    "        \n",
    "        sheet.column_dimensions['A'].width = 18\n",
    "        sheet.column_dimensions['G'].width = 18\n",
    "        sheet.column_dimensions['H'].width = 18\n",
    "\n",
    "# Save the workbook with the formulas\n",
    "workbook.save('BCM.xlsx')\n"
   ]
  }
 ],
 "metadata": {
  "kernelspec": {
   "display_name": "Python 3 (ipykernel)",
   "language": "python",
   "name": "python3"
  },
  "language_info": {
   "codemirror_mode": {
    "name": "ipython",
    "version": 3
   },
   "file_extension": ".py",
   "mimetype": "text/x-python",
   "name": "python",
   "nbconvert_exporter": "python",
   "pygments_lexer": "ipython3",
   "version": "3.11.4"
  }
 },
 "nbformat": 4,
 "nbformat_minor": 5
}
