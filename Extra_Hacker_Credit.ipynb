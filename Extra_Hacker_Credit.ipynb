{
 "cells": [
  {
   "cell_type": "markdown",
   "id": "ca110b11",
   "metadata": {},
   "source": [
    "# Extra Hacker Credit"
   ]
  },
  {
   "cell_type": "markdown",
   "id": "60e30355",
   "metadata": {},
   "source": [
    "Create a version of stream logger code that will work even if there are files from multiple streams and where each stream gets its own Excel file. For example, instead of just filenames starting with “BCM” (the stream identifier), there were other filenames starting with “JEF”, “MAE”, and more. Make sure that each csv gets put into the correct xlsx file. "
   ]
  },
  {
   "cell_type": "code",
   "execution_count": 1,
   "id": "95da4745",
   "metadata": {},
   "outputs": [],
   "source": [
    "import pandas as pd\n",
    "from pathlib import Path\n",
    "from openpyxl import load_workbook, Workbook\n",
    "from datetime import datetime\n",
    "\n",
    "# Function to convert string to desired Excel datetime format\n",
    "def convert_to_excel_datetime(date_str):\n",
    "    try:\n",
    "        dt = datetime.strptime(date_str, \"%m/%d/%Y %H:%M\")\n",
    "        return dt\n",
    "    except ValueError:\n",
    "        return None\n",
    "\n",
    "# Function to create or load a workbook\n",
    "def get_or_create_workbook(file_path):\n",
    "    if Path(file_path).exists():\n",
    "        workbook = load_workbook(file_path)\n",
    "    else:\n",
    "        workbook = Workbook()\n",
    "        workbook.save(file_path)\n",
    "    return workbook\n",
    "\n",
    "# Define the path to the logs folder\n",
    "logs_path = Path('logs')\n",
    "\n",
    "# Dictionary to keep track of the writer objects for each stream\n",
    "writers = {}\n",
    "\n",
    "# Step 1: Consolidate CSV files into Excel workbooks\n",
    "for csv_file in logs_path.glob('*.csv'):\n",
    "    # Extract stream identifier from the filename\n",
    "    stream_id = csv_file.stem.split('-')[0]\n",
    "    excel_file = f'{stream_id}.xlsx'\n",
    "    \n",
    "    # Create or get the existing writer for this stream\n",
    "    if stream_id not in writers:\n",
    "        workbook = get_or_create_workbook(excel_file)\n",
    "        writers[stream_id] = pd.ExcelWriter(excel_file, engine='openpyxl', mode='a', if_sheet_exists='new')\n",
    "    \n",
    "    # Read the CSV file into a DataFrame\n",
    "    df = pd.read_csv(csv_file, header=None, names=['datetime', 'scale', 'temperature'])\n",
    "    \n",
    "    # Write the DataFrame to a sheet named after the CSV file (without the .csv extension)\n",
    "    sheet_name = csv_file.stem\n",
    "    df.to_excel(writers[stream_id], sheet_name=sheet_name, index=False)\n",
    "\n",
    "# Save all the writers\n",
    "for writer in writers.values():\n",
    "    writer.close()\n",
    "\n",
    "# Step 2: Add formulas to each sheet in all workbooks\n",
    "for stream_id in writers.keys():\n",
    "    excel_file = f'{stream_id}.xlsx'\n",
    "    workbook = load_workbook(excel_file)\n",
    "    \n",
    "    for sheet_name in workbook.sheetnames:\n",
    "        if sheet_name != 'Sheet':  # Skip the initial blank sheet\n",
    "            sheet = workbook[sheet_name]\n",
    "            max_row = sheet.max_row\n",
    "\n",
    "            # Convert datetime strings to Excel datetime objects\n",
    "            for row in range(2, max_row + 1):\n",
    "                cell_value = sheet[f'A{row}'].value\n",
    "                excel_datetime = convert_to_excel_datetime(cell_value)\n",
    "                if excel_datetime:\n",
    "                    sheet[f'A{row}'].value = excel_datetime\n",
    "            \n",
    "            # Add labels for the formulas\n",
    "            sheet['G2'] = 'Min Temperature'\n",
    "            sheet['G3'] = 'Max Temperature'\n",
    "            sheet['G4'] = 'Average Temperature'\n",
    "            sheet['G6'] = 'Min Datetime'\n",
    "            sheet['G7'] = 'Max Datetime'\n",
    "\n",
    "            # Add the formulas\n",
    "            sheet['H2'] = f\"=round(MIN(C2:C{max_row}), 1)\"\n",
    "            sheet['H3'] = f\"=round(MAX(C2:C{max_row}), 1)\"\n",
    "            sheet['H4'] = f\"=round(AVERAGE(C2:C{max_row}), 1)\"\n",
    "            sheet['H6'] = f\"=TEXT(MIN(A2:A{max_row}), \\\"yyyy-mm-dd hh:mm:ss\\\")\"\n",
    "            sheet['H7'] = f\"=TEXT(MAX(A2:A{max_row}), \\\"yyyy-mm-dd hh:mm:ss\\\")\"\n",
    "            \n",
    "            # Adjust column widths\n",
    "            sheet.column_dimensions['A'].width = 18\n",
    "            sheet.column_dimensions['G'].width = 18\n",
    "            sheet.column_dimensions['H'].width = 18\n",
    "\n",
    "    # Save the workbook with the formulas\n",
    "    workbook.save(excel_file)"
   ]
  },
  {
   "cell_type": "markdown",
   "id": "1848cbcf",
   "metadata": {},
   "source": [
    "This above helps to save file of any stream identifier."
   ]
  }
 ],
 "metadata": {
  "kernelspec": {
   "display_name": "Python 3 (ipykernel)",
   "language": "python",
   "name": "python3"
  },
  "language_info": {
   "codemirror_mode": {
    "name": "ipython",
    "version": 3
   },
   "file_extension": ".py",
   "mimetype": "text/x-python",
   "name": "python",
   "nbconvert_exporter": "python",
   "pygments_lexer": "ipython3",
   "version": "3.11.4"
  }
 },
 "nbformat": 4,
 "nbformat_minor": 5
}
